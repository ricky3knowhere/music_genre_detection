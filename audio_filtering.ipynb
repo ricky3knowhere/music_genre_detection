{
 "cells": [
  {
   "cell_type": "code",
   "execution_count": 23,
   "metadata": {},
   "outputs": [
    {
     "name": "stdout",
     "output_type": "stream",
     "text": [
      "Mulai merekam...\n",
      "Rekaman selesai.\n",
      "[[ 0.00000000e+00]\n",
      " [ 0.00000000e+00]\n",
      " [-3.05175781e-05]\n",
      " ...\n",
      " [ 9.15527344e-05]\n",
      " [ 2.13623047e-04]\n",
      " [ 4.57763672e-04]]\n",
      "Mengurangi noise...\n",
      "[-3.33661541e-07  4.28733258e-07 -4.04196134e-07 ...  9.83670627e-06\n",
      "  1.18164644e-05  5.15271275e-05]\n",
      "Proses selesai.\n"
     ]
    }
   ],
   "source": [
    "import sounddevice as sd\n",
    "import numpy as np\n",
    "import noisereduce as nr\n",
    "import soundfile as sf\n",
    "import sounddevice as sd\n",
    "import time\n",
    "import scipy.io.wavfile as wav\n",
    "\n",
    "\n",
    "# Pengaturan rekaman\n",
    "SAMPLE_RATE = 22050  # Sampling rate\n",
    "DURATION = 10  # Durasi rekaman dalam detik\n",
    "OUTPUT_FILENAME = \"cleaned_recording.wav\"\n",
    "\n",
    "def record_audio(duration, sample_rate):\n",
    "    print(\"Mulai merekam...\")\n",
    "    recording = sd.rec(int(duration * sample_rate), samplerate=sample_rate, channels=1, dtype='float64')\n",
    "    sd.wait()  # Tunggu hingga rekaman selesai\n",
    "    print(\"Rekaman selesai.\")\n",
    "    return recording\n",
    "\n",
    "def save_audio(filename, sample_rate, data):\n",
    "    # Normalisasi data untuk memastikan bahwa nilainya berada dalam rentang yang valid untuk file WAV\n",
    "    max_val = np.max(np.abs(data))\n",
    "    if max_val > 0:\n",
    "        data = data / max_val\n",
    "\n",
    "    wav.write(filename, sample_rate, (data * 32767).astype(np.int16))  # Konversi ke format 16-bit PCM\n",
    "    print(f\"Audio disimpan sebagai {filename}\")\n",
    "\n",
    "def main():\n",
    "    # Langkah 1: Rekam audio\n",
    "    audio_data = record_audio(DURATION, SAMPLE_RATE)\n",
    "    print(audio_data)\n",
    "    \n",
    "    # Langkah 2: Bersihkan audio menggunakan noisereduce\n",
    "    print(\"Mengurangi noise...\")\n",
    "    cleaned_audio = nr.reduce_noise(y=audio_data.flatten(), sr=SAMPLE_RATE)\n",
    "    print(cleaned_audio)\n",
    "    \n",
    "    # Langkah 3: Simpan audio yang sudah dibersihkan\n",
    "    # save_audio('recording.wav', SAMPLE_RATE, audio_data)\n",
    "    # save_audio(OUTPUT_FILENAME, SAMPLE_RATE, cleaned_audio)\n",
    "    print(\"Proses selesai.\")\n",
    "\n",
    "\n",
    "main()"
   ]
  }
 ],
 "metadata": {
  "kernelspec": {
   "display_name": "Python 3",
   "language": "python",
   "name": "python3"
  },
  "language_info": {
   "codemirror_mode": {
    "name": "ipython",
    "version": 3
   },
   "file_extension": ".py",
   "mimetype": "text/x-python",
   "name": "python",
   "nbconvert_exporter": "python",
   "pygments_lexer": "ipython3",
   "version": "3.11.5"
  }
 },
 "nbformat": 4,
 "nbformat_minor": 2
}
