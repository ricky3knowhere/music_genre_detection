{
 "cells": [
  {
   "cell_type": "code",
   "execution_count": 29,
   "metadata": {},
   "outputs": [
    {
     "name": "stdout",
     "output_type": "stream",
     "text": [
      "Mulai merekam...\n",
      "Rekaman selesai.\n",
      "[[ 0.00000000e+00]\n",
      " [ 0.00000000e+00]\n",
      " [-3.05175781e-05]\n",
      " ...\n",
      " [ 2.62756348e-02]\n",
      " [ 2.65197754e-02]\n",
      " [ 2.57873535e-02]]\n",
      "(110250, 1)\n",
      "Mengurangi noise...\n",
      "[-3.08343826e-07  3.45193562e-07 -2.94549927e-07 ...  1.59419736e-02\n",
      "  1.52325668e-02  1.36550682e-02]\n",
      "(110250,)\n",
      "num_segments ==> 10\n",
      "[[ 0.00000000e+00]\n",
      " [ 0.00000000e+00]\n",
      " [-3.05175781e-05]\n",
      " ...\n",
      " [ 2.62756348e-02]\n",
      " [ 2.65197754e-02]\n",
      " [ 2.57873535e-02]]\n",
      "(110250, 1)\n"
     ]
    },
    {
     "name": "stderr",
     "output_type": "stream",
     "text": [
      "c:\\Users\\Ricky\\AppData\\Local\\Programs\\Python\\Python311\\Lib\\site-packages\\librosa\\core\\spectrum.py:257: UserWarning: n_fft=2048 is too large for input signal of length=1\n",
      "  warnings.warn(\n",
      "c:\\Users\\Ricky\\AppData\\Local\\Programs\\Python\\Python311\\Lib\\site-packages\\librosa\\core\\spectrum.py:371: RuntimeWarning: divide by zero encountered in scalar floor_divide\n",
      "  util.MAX_MEM_BLOCK // (np.prod(y_frames.shape[:-1]) * y_frames.itemsize)\n"
     ]
    },
    {
     "ename": "ValueError",
     "evalue": "zero-size array to reduction operation maximum which has no identity",
     "output_type": "error",
     "traceback": [
      "\u001b[1;31m---------------------------------------------------------------------------\u001b[0m",
      "\u001b[1;31mValueError\u001b[0m                                Traceback (most recent call last)",
      "Cell \u001b[1;32mIn[29], line 54\u001b[0m\n\u001b[0;32m     48\u001b[0m     \u001b[38;5;66;03m# Langkah 3: Simpan audio yang sudah dibersihkan\u001b[39;00m\n\u001b[0;32m     49\u001b[0m     \u001b[38;5;66;03m# save_audio('recording.wav', SAMPLE_RATE, audio_data)\u001b[39;00m\n\u001b[0;32m     50\u001b[0m     \u001b[38;5;66;03m# save_audio(OUTPUT_FILENAME, SAMPLE_RATE, cleaned_audio)\u001b[39;00m\n\u001b[0;32m     51\u001b[0m     \u001b[38;5;28mprint\u001b[39m(\u001b[38;5;124m\"\u001b[39m\u001b[38;5;124mProses selesai.\u001b[39m\u001b[38;5;124m\"\u001b[39m)\n\u001b[1;32m---> 54\u001b[0m \u001b[43mmain\u001b[49m\u001b[43m(\u001b[49m\u001b[43m)\u001b[49m\n",
      "Cell \u001b[1;32mIn[29], line 43\u001b[0m, in \u001b[0;36mmain\u001b[1;34m()\u001b[0m\n\u001b[0;32m     41\u001b[0m \u001b[38;5;28mprint\u001b[39m(cleaned_audio)\n\u001b[0;32m     42\u001b[0m \u001b[38;5;28mprint\u001b[39m(cleaned_audio\u001b[38;5;241m.\u001b[39mshape)\n\u001b[1;32m---> 43\u001b[0m mfcc \u001b[38;5;241m=\u001b[39m \u001b[43mextract_mfcc\u001b[49m\u001b[43m(\u001b[49m\u001b[43maudio_data\u001b[49m\u001b[43m)\u001b[49m\n\u001b[0;32m     44\u001b[0m \u001b[38;5;28mprint\u001b[39m(mfcc)\n\u001b[0;32m     45\u001b[0m \u001b[38;5;28mprint\u001b[39m(mfcc\u001b[38;5;241m.\u001b[39mshape)\n",
      "File \u001b[1;32md:\\programs\\TA_projects\\staging_area\\model_test.py:33\u001b[0m, in \u001b[0;36mextract_mfcc\u001b[1;34m(file_path, num_mfcc, n_fft, hop_length, num_segments)\u001b[0m\n\u001b[0;32m     30\u001b[0m finish \u001b[38;5;241m=\u001b[39m start \u001b[38;5;241m+\u001b[39m samples_per_segment\n\u001b[0;32m     32\u001b[0m \u001b[38;5;66;03m# extract mfcc\u001b[39;00m\n\u001b[1;32m---> 33\u001b[0m mfcc \u001b[38;5;241m=\u001b[39m \u001b[43mlibrosa\u001b[49m\u001b[38;5;241;43m.\u001b[39;49m\u001b[43mfeature\u001b[49m\u001b[38;5;241;43m.\u001b[39;49m\u001b[43mmfcc\u001b[49m\u001b[43m(\u001b[49m\n\u001b[0;32m     34\u001b[0m \u001b[43m    \u001b[49m\u001b[43my\u001b[49m\u001b[38;5;241;43m=\u001b[39;49m\u001b[43msignal\u001b[49m\u001b[43m[\u001b[49m\u001b[43mstart\u001b[49m\u001b[43m:\u001b[49m\u001b[43mfinish\u001b[49m\u001b[43m]\u001b[49m\u001b[43m,\u001b[49m\n\u001b[0;32m     35\u001b[0m \u001b[43m    \u001b[49m\u001b[43msr\u001b[49m\u001b[38;5;241;43m=\u001b[39;49m\u001b[43mSAMPLE_RATE\u001b[49m\u001b[43m,\u001b[49m\n\u001b[0;32m     36\u001b[0m \u001b[43m    \u001b[49m\u001b[43mn_mfcc\u001b[49m\u001b[38;5;241;43m=\u001b[39;49m\u001b[43mnum_mfcc\u001b[49m\u001b[43m,\u001b[49m\n\u001b[0;32m     37\u001b[0m \u001b[43m    \u001b[49m\u001b[43mn_fft\u001b[49m\u001b[38;5;241;43m=\u001b[39;49m\u001b[43mn_fft\u001b[49m\u001b[43m,\u001b[49m\n\u001b[0;32m     38\u001b[0m \u001b[43m    \u001b[49m\u001b[43mhop_length\u001b[49m\u001b[38;5;241;43m=\u001b[39;49m\u001b[43mhop_length\u001b[49m\u001b[43m,\u001b[49m\n\u001b[0;32m     39\u001b[0m \u001b[43m\u001b[49m\u001b[43m)\u001b[49m\n\u001b[0;32m     40\u001b[0m mfcc \u001b[38;5;241m=\u001b[39m mfcc\u001b[38;5;241m.\u001b[39mT\n\u001b[0;32m     42\u001b[0m \u001b[38;5;66;03m# store only mfcc feature with expected number of vectors\u001b[39;00m\n",
      "File \u001b[1;32mc:\\Users\\Ricky\\AppData\\Local\\Programs\\Python\\Python311\\Lib\\site-packages\\librosa\\feature\\spectral.py:1989\u001b[0m, in \u001b[0;36mmfcc\u001b[1;34m(y, sr, S, n_mfcc, dct_type, norm, lifter, **kwargs)\u001b[0m\n\u001b[0;32m   1843\u001b[0m \u001b[38;5;250m\u001b[39m\u001b[38;5;124;03m\"\"\"Mel-frequency cepstral coefficients (MFCCs)\u001b[39;00m\n\u001b[0;32m   1844\u001b[0m \n\u001b[0;32m   1845\u001b[0m \u001b[38;5;124;03m.. warning:: If multi-channel audio input ``y`` is provided, the MFCC\u001b[39;00m\n\u001b[1;32m   (...)\u001b[0m\n\u001b[0;32m   1985\u001b[0m \u001b[38;5;124;03m>>> fig.colorbar(img2, ax=[ax[1]])\u001b[39;00m\n\u001b[0;32m   1986\u001b[0m \u001b[38;5;124;03m\"\"\"\u001b[39;00m\n\u001b[0;32m   1987\u001b[0m \u001b[38;5;28;01mif\u001b[39;00m S \u001b[38;5;129;01mis\u001b[39;00m \u001b[38;5;28;01mNone\u001b[39;00m:\n\u001b[0;32m   1988\u001b[0m     \u001b[38;5;66;03m# multichannel behavior may be different due to relative noise floor differences between channels\u001b[39;00m\n\u001b[1;32m-> 1989\u001b[0m     S \u001b[38;5;241m=\u001b[39m \u001b[43mpower_to_db\u001b[49m\u001b[43m(\u001b[49m\u001b[43mmelspectrogram\u001b[49m\u001b[43m(\u001b[49m\u001b[43my\u001b[49m\u001b[38;5;241;43m=\u001b[39;49m\u001b[43my\u001b[49m\u001b[43m,\u001b[49m\u001b[43m \u001b[49m\u001b[43msr\u001b[49m\u001b[38;5;241;43m=\u001b[39;49m\u001b[43msr\u001b[49m\u001b[43m,\u001b[49m\u001b[43m \u001b[49m\u001b[38;5;241;43m*\u001b[39;49m\u001b[38;5;241;43m*\u001b[39;49m\u001b[43mkwargs\u001b[49m\u001b[43m)\u001b[49m\u001b[43m)\u001b[49m\n\u001b[0;32m   1991\u001b[0m M: np\u001b[38;5;241m.\u001b[39mndarray \u001b[38;5;241m=\u001b[39m scipy\u001b[38;5;241m.\u001b[39mfftpack\u001b[38;5;241m.\u001b[39mdct(S, axis\u001b[38;5;241m=\u001b[39m\u001b[38;5;241m-\u001b[39m\u001b[38;5;241m2\u001b[39m, \u001b[38;5;28mtype\u001b[39m\u001b[38;5;241m=\u001b[39mdct_type, norm\u001b[38;5;241m=\u001b[39mnorm)[\n\u001b[0;32m   1992\u001b[0m     \u001b[38;5;241m.\u001b[39m\u001b[38;5;241m.\u001b[39m\u001b[38;5;241m.\u001b[39m, :n_mfcc, :\n\u001b[0;32m   1993\u001b[0m ]\n\u001b[0;32m   1995\u001b[0m \u001b[38;5;28;01mif\u001b[39;00m lifter \u001b[38;5;241m>\u001b[39m \u001b[38;5;241m0\u001b[39m:\n\u001b[0;32m   1996\u001b[0m     \u001b[38;5;66;03m# shape lifter for broadcasting\u001b[39;00m\n",
      "File \u001b[1;32mc:\\Users\\Ricky\\AppData\\Local\\Programs\\Python\\Python311\\Lib\\site-packages\\librosa\\core\\spectrum.py:1777\u001b[0m, in \u001b[0;36mpower_to_db\u001b[1;34m(S, ref, amin, top_db)\u001b[0m\n\u001b[0;32m   1775\u001b[0m     \u001b[38;5;28;01mif\u001b[39;00m top_db \u001b[38;5;241m<\u001b[39m \u001b[38;5;241m0\u001b[39m:\n\u001b[0;32m   1776\u001b[0m         \u001b[38;5;28;01mraise\u001b[39;00m ParameterError(\u001b[38;5;124m\"\u001b[39m\u001b[38;5;124mtop_db must be non-negative\u001b[39m\u001b[38;5;124m\"\u001b[39m)\n\u001b[1;32m-> 1777\u001b[0m     log_spec \u001b[38;5;241m=\u001b[39m np\u001b[38;5;241m.\u001b[39mmaximum(log_spec, \u001b[43mlog_spec\u001b[49m\u001b[38;5;241;43m.\u001b[39;49m\u001b[43mmax\u001b[49m\u001b[43m(\u001b[49m\u001b[43m)\u001b[49m \u001b[38;5;241m-\u001b[39m top_db)\n\u001b[0;32m   1779\u001b[0m \u001b[38;5;28;01mreturn\u001b[39;00m log_spec\n",
      "File \u001b[1;32mc:\\Users\\Ricky\\AppData\\Local\\Programs\\Python\\Python311\\Lib\\site-packages\\numpy\\core\\_methods.py:41\u001b[0m, in \u001b[0;36m_amax\u001b[1;34m(a, axis, out, keepdims, initial, where)\u001b[0m\n\u001b[0;32m     39\u001b[0m \u001b[38;5;28;01mdef\u001b[39;00m \u001b[38;5;21m_amax\u001b[39m(a, axis\u001b[38;5;241m=\u001b[39m\u001b[38;5;28;01mNone\u001b[39;00m, out\u001b[38;5;241m=\u001b[39m\u001b[38;5;28;01mNone\u001b[39;00m, keepdims\u001b[38;5;241m=\u001b[39m\u001b[38;5;28;01mFalse\u001b[39;00m,\n\u001b[0;32m     40\u001b[0m           initial\u001b[38;5;241m=\u001b[39m_NoValue, where\u001b[38;5;241m=\u001b[39m\u001b[38;5;28;01mTrue\u001b[39;00m):\n\u001b[1;32m---> 41\u001b[0m     \u001b[38;5;28;01mreturn\u001b[39;00m umr_maximum(a, axis, \u001b[38;5;28;01mNone\u001b[39;00m, out, keepdims, initial, where)\n",
      "\u001b[1;31mValueError\u001b[0m: zero-size array to reduction operation maximum which has no identity"
     ]
    }
   ],
   "source": [
    "import sounddevice as sd\n",
    "import numpy as np\n",
    "import noisereduce as nr\n",
    "import soundfile as sf\n",
    "import sounddevice as sd\n",
    "import time\n",
    "import scipy.io.wavfile as wav\n",
    "from model_test import extract_mfcc\n",
    "\n",
    "\n",
    "# Pengaturan rekaman\n",
    "SAMPLE_RATE = 22050  # Sampling rate\n",
    "DURATION = 5  # Durasi rekaman dalam detik\n",
    "OUTPUT_FILENAME = \"cleaned_recording.wav\"\n",
    "\n",
    "def record_audio(duration, sample_rate):\n",
    "    print(\"Mulai merekam...\")\n",
    "    recording = sd.rec(int(duration * sample_rate), samplerate=sample_rate, channels=1, dtype='float64')\n",
    "    sd.wait()  # Tunggu hingga rekaman selesai\n",
    "    print(\"Rekaman selesai.\")\n",
    "    return recording\n",
    "\n",
    "def save_audio(filename, sample_rate, data):\n",
    "    # Normalisasi data untuk memastikan bahwa nilainya berada dalam rentang yang valid untuk file WAV\n",
    "    max_val = np.max(np.abs(data))\n",
    "    if max_val > 0:\n",
    "        data = data / max_val\n",
    "\n",
    "    wav.write(filename, sample_rate, (data * 32767).astype(np.int16))  # Konversi ke format 16-bit PCM\n",
    "    print(f\"Audio disimpan sebagai {filename}\")\n",
    "\n",
    "def main():\n",
    "    # Langkah 1: Rekam audio\n",
    "    audio_data = record_audio(DURATION, SAMPLE_RATE)\n",
    "    print(audio_data)\n",
    "    print(audio_data.shape)\n",
    "    \n",
    "    # Langkah 2: Bersihkan audio menggunakan noisereduce\n",
    "    print(\"Mengurangi noise...\")\n",
    "    cleaned_audio = nr.reduce_noise(y=audio_data.flatten(), sr=SAMPLE_RATE)\n",
    "    print(cleaned_audio)\n",
    "    print(cleaned_audio.shape)\n",
    "    mfcc = extract_mfcc(audio_data)\n",
    "    print(mfcc)\n",
    "    print(mfcc.shape)\n",
    "    \n",
    "    \n",
    "    # Langkah 3: Simpan audio yang sudah dibersihkan\n",
    "    # save_audio('recording.wav', SAMPLE_RATE, audio_data)\n",
    "    # save_audio(OUTPUT_FILENAME, SAMPLE_RATE, cleaned_audio)\n",
    "    print(\"Proses selesai.\")\n",
    "\n",
    "\n",
    "main()"
   ]
  },
  {
   "cell_type": "code",
   "execution_count": null,
   "metadata": {},
   "outputs": [],
   "source": []
  },
  {
   "cell_type": "code",
   "execution_count": 31,
   "metadata": {},
   "outputs": [
    {
     "ename": "NameError",
     "evalue": "name 'recoding' is not defined",
     "output_type": "error",
     "traceback": [
      "\u001b[1;31m---------------------------------------------------------------------------\u001b[0m",
      "\u001b[1;31mNameError\u001b[0m                                 Traceback (most recent call last)",
      "Cell \u001b[1;32mIn[31], line 21\u001b[0m\n\u001b[0;32m     19\u001b[0m stream\u001b[38;5;241m.\u001b[39mstop()\n\u001b[0;32m     20\u001b[0m stream\u001b[38;5;241m.\u001b[39mclose()\n\u001b[1;32m---> 21\u001b[0m mfcc \u001b[38;5;241m=\u001b[39m extract_mfcc(\u001b[43mrecoding\u001b[49m)\n\u001b[0;32m     22\u001b[0m \u001b[38;5;28mprint\u001b[39m(mfcc)\n\u001b[0;32m     23\u001b[0m \u001b[38;5;28mprint\u001b[39m(mfcc\u001b[38;5;241m.\u001b[39mshape)\n",
      "\u001b[1;31mNameError\u001b[0m: name 'recoding' is not defined"
     ]
    }
   ],
   "source": [
    "import sounddevice as sd\n",
    "\n",
    "\n",
    "recording = np.zeros(0)\n",
    "\n",
    "    # Define a callback function to collect audio data\n",
    "def callback(indata, frames, time, status):\n",
    "    global recording\n",
    "    recording = np.append(recording, indata[:, 0])\n",
    "\n",
    "stream = sd.InputStream(\n",
    "        callback=callback, channels=1, samplerate=22050, blocksize=1024\n",
    "    )\n",
    "stream.start()\n",
    "\n",
    "start_time = time.time()\n",
    "# while time.time() - start_time < 10:\n",
    "\n",
    "stream.stop()\n",
    "stream.close()\n",
    "mfcc = extract_mfcc(recoding)\n",
    "print(mfcc)\n",
    "print(mfcc.shape)"
   ]
  }
 ],
 "metadata": {
  "kernelspec": {
   "display_name": "Python 3",
   "language": "python",
   "name": "python3"
  },
  "language_info": {
   "codemirror_mode": {
    "name": "ipython",
    "version": 3
   },
   "file_extension": ".py",
   "mimetype": "text/x-python",
   "name": "python",
   "nbconvert_exporter": "python",
   "pygments_lexer": "ipython3",
   "version": "3.11.5"
  }
 },
 "nbformat": 4,
 "nbformat_minor": 2
}
