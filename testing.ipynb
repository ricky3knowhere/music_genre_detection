{
 "cells": [
  {
   "cell_type": "code",
   "execution_count": 14,
   "metadata": {},
   "outputs": [
    {
     "name": "stdout",
     "output_type": "stream",
     "text": [
      "yes\n"
     ]
    }
   ],
   "source": [
    "import numpy as np\n",
    "import time\n",
    "# print(list(np.zeros(1)))\n",
    "\n",
    "# print(time.time())\n",
    "test = 0\n",
    "tests ='yes' if test == 0 else 'no'\n",
    "print(tests)"
   ]
  },
  {
   "cell_type": "code",
   "execution_count": 72,
   "metadata": {},
   "outputs": [
    {
     "name": "stdout",
     "output_type": "stream",
     "text": [
      "['Blues', 'Classical', 'Country', 'Disco', 'HipHop', 'Jazz', 'Metal', 'Pop', 'Reggae', 'Rock']\n",
      "5\n",
      "Jazz: 50\n",
      "Disco: 32\n",
      "Classical: 14\n",
      "other : 4\n"
     ]
    }
   ],
   "source": [
    "genres = {\n",
    "    \"Blues\": 13,\n",
    "    \"Classical\": 14,\n",
    "    \"Country\": 5,\n",
    "    \"Disco\": 32,\n",
    "    \"HipHop\": 5,\n",
    "    \"Jazz\": 50,\n",
    "    \"Metal\": 5,\n",
    "    \"Pop\": 4,\n",
    "    \"Reggae\": 2,\n",
    "    \"Rock\": 1,\n",
    "}\n",
    "\n",
    "# Extract genre names and values as separate lists\n",
    "genre_names = list(genres.keys())\n",
    "genre_values = list(genres.values())\n",
    "\n",
    "# Sort the two lists together based on values in descending order\n",
    "sorted_genres = sorted(zip(genre_names, genre_values), key=lambda x: x[1], reverse=True)\n",
    "\n",
    "print(genre_names)\n",
    "for i, name in enumerate(genre_names):\n",
    "  if name == sorted_genres[0][0]:\n",
    "    print(i)\n",
    "    break\n",
    "# Print the top 3 genres and their values\n",
    "val=0\n",
    "for genre, value in sorted_genres[:3]:\n",
    "    print(f\"{genre}: {value}\")\n",
    "    val += int(value)\n",
    "\n",
    "print(f'other : {100 - val }')"
   ]
  },
  {
   "cell_type": "code",
   "execution_count": 71,
   "metadata": {},
   "outputs": [
    {
     "name": "stdout",
     "output_type": "stream",
     "text": [
      "2021\n"
     ]
    }
   ],
   "source": [
    "test = '2021-11-12'\n",
    "\n",
    "print(test[0:4])"
   ]
  },
  {
   "cell_type": "code",
   "execution_count": 3,
   "metadata": {},
   "outputs": [
    {
     "name": "stdout",
     "output_type": "stream",
     "text": [
      "2015\n"
     ]
    }
   ],
   "source": [
    "year = (2015, 2020)\n",
    "\n",
    "print(year[0])"
   ]
  }
 ],
 "metadata": {
  "kernelspec": {
   "display_name": "Python 3",
   "language": "python",
   "name": "python3"
  },
  "language_info": {
   "codemirror_mode": {
    "name": "ipython",
    "version": 3
   },
   "file_extension": ".py",
   "mimetype": "text/x-python",
   "name": "python",
   "nbconvert_exporter": "python",
   "pygments_lexer": "ipython3",
   "version": "3.11.5"
  }
 },
 "nbformat": 4,
 "nbformat_minor": 2
}
