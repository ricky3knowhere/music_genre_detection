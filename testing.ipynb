{
 "cells": [
  {
   "cell_type": "code",
   "execution_count": 14,
   "metadata": {},
   "outputs": [
    {
     "name": "stdout",
     "output_type": "stream",
     "text": [
      "yes\n"
     ]
    }
   ],
   "source": [
    "import numpy as np\n",
    "import time\n",
    "# print(list(np.zeros(1)))\n",
    "\n",
    "# print(time.time())\n",
    "test = 0\n",
    "tests ='yes' if test == 0 else 'no'\n",
    "print(tests)"
   ]
  },
  {
   "cell_type": "code",
   "execution_count": 97,
   "metadata": {},
   "outputs": [
    {
     "name": "stdout",
     "output_type": "stream",
     "text": [
      "131\n"
     ]
    }
   ],
   "source": [
    "genres = {\n",
    "    \"Blues\": 13,\n",
    "    \"Classical\": 14,\n",
    "    \"Country\": 5,\n",
    "    \"Disco\": 32,\n",
    "    \"HipHop\": 5,\n",
    "    \"Jazz\": 50,\n",
    "    \"Metal\": 5,\n",
    "    \"Pop\": 4,\n",
    "    \"Reggae\": 2,\n",
    "    \"Rock\": 1,\n",
    "}\n",
    "\n",
    "# Extract genre names and values as separate lists\n",
    "genre_names = list(genres.keys())\n",
    "genre_values = list(genres.values())\n",
    "\n",
    "# Sort the two lists together based on values in descending order\n",
    "# sorted_genres = sorted(zip(genre_names, genre_values), key=lambda x: x[1], reverse=True)\n",
    "\n",
    "# print(genre_names)\n",
    "# for i, name in enumerate(genre_names):\n",
    "#   if name == sorted_genres[0][0]:\n",
    "#     print(i)\n",
    "#     break\n",
    "# # Print the top 3 genres and their values\n",
    "# val=0\n",
    "# for genre, value in sorted_genres[:3]:\n",
    "#     print(f\"{genre}: {value}\")\n",
    "#     val += int(value)\n",
    "\n",
    "# print(f'other : {100 - val }')\n",
    "\n",
    "# count = sum(genre_values)\n",
    "import math\n",
    "test = int(math.fsum(genre_values))\n",
    "print(test)"
   ]
  },
  {
   "cell_type": "code",
   "execution_count": 49,
   "metadata": {},
   "outputs": [
    {
     "name": "stdout",
     "output_type": "stream",
     "text": [
      "2021\n"
     ]
    }
   ],
   "source": [
    "test = '2021-11-12'\n",
    "\n",
    "print(test[:4])"
   ]
  },
  {
   "cell_type": "code",
   "execution_count": 68,
   "metadata": {},
   "outputs": [
    {
     "name": "stdout",
     "output_type": "stream",
     "text": [
      "ucok tabok, linknya ==> bit.ly/dsafgh\n",
      "mamat basreng, linknya ==> bit.ly/sga\n",
      "tatang rempag, linknya ==> bit.ly/afsg\n"
     ]
    }
   ],
   "source": [
    "# year = (2015, 2020)\n",
    "\n",
    "# print(year[0])\n",
    "\n",
    "song = {\"artists\": [{\"name\": \"ucok tabok\"}]}\n",
    "song2 = {\n",
    "    \"artists\": [\n",
    "        {\"name\": \"ucok tabok\", 'href':'bit.ly/dsafgh'},\n",
    "        {\"name\": \"mamat basreng\", 'href':'bit.ly/sga'},\n",
    "        {\"name\": \"tatang rempag\", 'href':'bit.ly/afsg'},\n",
    "    ]\n",
    "}\n",
    "\n",
    "names = list(map(lambda x: x[\"name\"], song[\"artists\"]))\n",
    "# names2 = \" , \".join(list(map(lambda x: x[\"name\"], song2[\"artists\"])))\n",
    "names2 = song2['artists']\n",
    "\n",
    "for i in names2:\n",
    "  # print(i['name'])\n",
    "  print('{}, linknya ==> {}'.format(i['name'],i['href']))"
   ]
  },
  {
   "cell_type": "code",
   "execution_count": 46,
   "metadata": {},
   "outputs": [
    {
     "name": "stdout",
     "output_type": "stream",
     "text": [
      "<<<========ROW-0=========>>>\n",
      "DeltaGenerator()\n",
      "ucok tabok\n",
      "DeltaGenerator()\n",
      "mamat basreng\n",
      "DeltaGenerator()\n",
      "tatang rempag\n",
      "<<<========ROW-3=========>>>\n",
      "DeltaGenerator()\n",
      "asep tabok\n",
      "DeltaGenerator()\n",
      "juned basreng\n",
      "DeltaGenerator()\n",
      "jimmy rempag\n",
      "<<<========ROW-6=========>>>\n",
      "DeltaGenerator()\n",
      "pria tabok\n",
      "DeltaGenerator()\n",
      "sigma basreng\n",
      "DeltaGenerator()\n",
      "enih rempag\n",
      "<<<========ROW-9=========>>>\n",
      "DeltaGenerator()\n",
      "entin rempag\n"
     ]
    }
   ],
   "source": [
    "import streamlit as st\n",
    "import math\n",
    "\n",
    "song2 = {\n",
    "    \"artists\": [\n",
    "        {\"name\": \"ucok tabok\", \"href\": \"bit.ly/dsafgh\"},\n",
    "        {\"name\": \"mamat basreng\", \"href\": \"bit.ly/sga\"},\n",
    "        {\"name\": \"tatang rempag\", \"href\": \"bit.ly/afsg\"},\n",
    "        {\"name\": \"asep tabok\", \"href\": \"bit.ly/dsafgh\"},\n",
    "        {\"name\": \"juned basreng\", \"href\": \"bit.ly/sga\"},\n",
    "        {\"name\": \"jimmy rempag\", \"href\": \"bit.ly/afsg\"},\n",
    "        {\"name\": \"pria tabok\", \"href\": \"bit.ly/dsafgh\"},\n",
    "        {\"name\": \"sigma basreng\", \"href\": \"bit.ly/sga\"},\n",
    "        {\"name\": \"enih rempag\", \"href\": \"bit.ly/afsg\"},\n",
    "        {\"name\": \"entin rempag\", \"href\": \"bit.ly/afsg\"},\n",
    "    ]\n",
    "}\n",
    "\n",
    "grid = math.ceil(len(song2[\"artists\"]) / 3)\n",
    "rows = [st.columns(3) for i in range(grid)]\n",
    "\n",
    "idx = 0\n",
    "for row in rows:\n",
    "  print(f'<<<========ROW-{idx}=========>>>')\n",
    "  for col in row:\n",
    "    if idx >= len(song2[\"artists\"]):\n",
    "      break\n",
    "    print(col)\n",
    "    print(song2['artists'][idx][\"name\"])\n",
    "    idx += 1\n"
   ]
  }
 ],
 "metadata": {
  "kernelspec": {
   "display_name": "Python 3",
   "language": "python",
   "name": "python3"
  },
  "language_info": {
   "codemirror_mode": {
    "name": "ipython",
    "version": 3
   },
   "file_extension": ".py",
   "mimetype": "text/x-python",
   "name": "python",
   "nbconvert_exporter": "python",
   "pygments_lexer": "ipython3",
   "version": "3.11.5"
  }
 },
 "nbformat": 4,
 "nbformat_minor": 2
}
